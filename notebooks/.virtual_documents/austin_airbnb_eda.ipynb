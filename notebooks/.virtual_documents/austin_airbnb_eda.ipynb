


# ─── Imports ─────────────────────────────────────────────────────
import pandas as pd
import numpy as np
import matplotlib.pyplot as plt
import seaborn as sns

sns.set(style='whitegrid', palette='muted', font_scale=1.1)
%matplotlib inline
plt.rcParams['figure.figsize'] = (10,6)


# ─── Load Dataset ─────────────────────────────────────────────────
file_path = '../data/raw/listings.csv'
df = pd.read_csv(file_path, low_memory=False)
print('Shape:', df.shape)
df.head(3)


# ─── Initial Data Overview ─────────────────────────────────────────
df.info()
df.describe(include='all').T.head(10)





# Check for missing values
missing = df.isna().mean().sort_values(ascending=False)
missing.head(20)


# Select subset of relevant columns
cols = ['id','name','neighbourhood_cleansed','room_type','price','minimum_nights','number_of_reviews','availability_365','review_scores_rating']
df_sub = df[cols].copy()

# Clean price column
df_sub['price'] = df_sub['price'].replace({'\$':'',',':''}, regex=True).astype(float)
df_sub.head()





plt.figure(figsize=(10,6))
sns.histplot(df_sub['price'], bins=50, kde=True)
plt.xlim(0, 1000)
plt.title('Distribution of Airbnb Prices in Austin')
plt.xlabel('Price (USD per night)')
plt.ylabel('Frequency')
plt.show()





neigh_prices = df_sub.groupby('neighbourhood_cleansed')['price'].median().sort_values(ascending=False).head(15)
plt.figure(figsize=(10,6))
sns.barplot(x=neigh_prices.values, y=neigh_prices.index, hue=neigh_prices.index, palette='crest', legend=False)
plt.title('Median Price by Neighborhood (Top 15)')
plt.xlabel('Median Price (USD)')
plt.ylabel('Neighborhood')
plt.show()





# Example: Sampling mean price distribution
sample_means = [df_sub['price'].sample(300, random_state=i).mean() for i in range(1000)]
sns.histplot(sample_means, kde=True)
plt.title('Sampling Distribution of Mean Price (n=300)')
plt.xlabel('Sample Mean Price (USD)')
plt.show()

np.mean(sample_means), np.std(sample_means)


df_sub.head()





# Convert to numeric and drop rows where either is missing
df_scatter = df_sub.copy()
df_scatter['review_scores_rating'] = pd.to_numeric(df_scatter['review_scores_rating'], errors='coerce')
df_scatter['price'] = pd.to_numeric(df_scatter['price'], errors='coerce')

df_scatter = df_scatter.dropna(subset=['price', 'review_scores_rating'])
print(df_scatter.shape)


plt.figure(figsize=(8,6))
sns.scatterplot(
    data=df_scatter,
    x='review_scores_rating',
    y='price',
    alpha=0.4,
    color='steelblue'
)
sns.regplot(
    data=df_scatter,
    x='review_scores_rating',
    y='price',
    scatter=False,
    color='darkred'
)
plt.title('Price vs Review Scores Rating')
plt.xlabel('Review Score')
plt.ylabel('Price (USD per night)')
plt.show()





plt.figure(figsize=(8,6))
sns.scatterplot(
    data=df_sub,
    x='availability_365',
    y='price',
    alpha=0.4,
    color='mediumseagreen'
)
sns.regplot(
    data=df_sub,
    x='availability_365',
    y='price',
    scatter=False,
    color='darkred'
)
plt.title('Availability vs Price')
plt.xlabel('Available Days per Year')
plt.ylabel('Price (USD per night)')
plt.xlim(0,365)
plt.ylim(0,1000)
plt.show()





import numpy as np
import scipy.stats as stats

mean_price = df_scatter['price'].mean()
std_price  = df_scatter['price'].std()
n          = len(df_scatter['price'])
mean_price, std_price, n


confidence = 0.95
stderr = std_price / np.sqrt(n)
margin_of_error = stats.t.ppf((1 + confidence) / 2, n - 1) * stderr
lower_bound = mean_price - margin_of_error
upper_bound = mean_price + margin_of_error

print(f"Expected nightly rate (mean): ${mean_price:,.2f}")
print(f"95% Confidence Interval: ${lower_bound:,.2f}  →  ${upper_bound:,.2f}")


plt.figure(figsize=(10,6))
sns.histplot(df_scatter['price'], bins=50, kde=True, color='steelblue')
plt.axvline(mean_price, color='red', linestyle='--', label=f"Mean = ${mean_price:,.0f}")
plt.axvline(lower_bound, color='orange', linestyle='--', label='95% CI Lower')
plt.axvline(upper_bound, color='orange', linestyle='--', label='95% CI Upper')
plt.title('Distribution of Nightly Prices with 95% Confidence Interval')
plt.xlabel('Price (USD)')
plt.ylabel('Frequency')
plt.legend()
plt.show()


plt.figure(figsize=(10,6))
sns.histplot(df_scatter['price'], bins=50, kde=True, color='steelblue')
plt.axvline(mean_price, color='red', linestyle='--', label=f"Mean = ${mean_price:,.0f}")
plt.axvline(lower_bound, color='orange', linestyle='--', label='95% CI Lower')
plt.axvline(upper_bound, color='orange', linestyle='--', label='95% CI Upper')
plt.title('Distribution of Nightly Prices (Zoomed) with 95% Confidence Interval')
plt.xlabel('Price (USD)')
plt.ylabel('Frequency')
plt.xlim(0, 1000)     # 🔹 Zoom to typical price range
plt.legend()
plt.show()


df_filtered = df_scatter[df_scatter['price'] <= 1000]

mean_price_f = df_filtered['price'].mean()
std_price_f  = df_filtered['price'].std()
n_f          = len(df_filtered)
stderr_f     = std_price_f / np.sqrt(n_f)
margin_f     = stats.t.ppf(0.975, n_f - 1) * stderr_f
lower_f, upper_f = mean_price_f - margin_f, mean_price_f + margin_f

plt.figure(figsize=(10,6))
sns.histplot(df_filtered['price'], bins=50, kde=True, color='steelblue')
plt.axvline(mean_price_f, color='red', linestyle='--', label=f"Mean = ${mean_price_f:,.0f}")
plt.axvline(lower_f, color='orange', linestyle='--', label='95% CI Lower')
plt.axvline(upper_f, color='orange', linestyle='--', label='95% CI Upper')
plt.title('Distribution of Nightly Prices (<=$1000) with 95% CI')
plt.xlabel('Price (USD)')
plt.ylabel('Frequency')
plt.legend()
plt.show()





import numpy as np
import pandas as pd
from scipy import stats

# How many outliers did we remove?
prop_removed = 1 - (len(df_filtered) / len(df_scatter))

summary_before = df_scatter['price'].describe(percentiles=[.5,.9,.95,.99])
summary_after  = df_filtered['price'].describe(percentiles=[.5,.9,.95,.99])

mean_before   = df_scatter['price'].mean()
median_before = df_scatter['price'].median()
mean_after    = df_filtered['price'].mean()
median_after  = df_filtered['price'].median()

trim5_before = stats.trim_mean(df_scatter['price'], 0.05)  # 5% trimmed mean
trim5_after  = stats.trim_mean(df_filtered['price'], 0.05)

prop_removed, summary_before, summary_after, (mean_before, median_before, trim5_before), (mean_after, median_after, trim5_after)





from pathlib import Path
import matplotlib.pyplot as plt

# Create visuals if needed
visuals_path = Path("../visuals")
visuals_path.mkdir(parents=True, exist_ok=True)

# Save the key figures already displayed in your notebook
plt.figure(1)  # optional re-plot sequence only if figures are still in memory
plt.savefig(visuals_path / "price_vs_review_scores.png", bbox_inches="tight", dpi=300)

plt.figure(2)
plt.savefig(visuals_path / "availability_vs_price.png", bbox_inches="tight", dpi=300)

plt.figure(3)
plt.savefig(visuals_path / "price_distribution_CI_filtered.png", bbox_inches="tight", dpi=300)

print(f"✅ Figures saved to: {visuals_path.resolve()}")



